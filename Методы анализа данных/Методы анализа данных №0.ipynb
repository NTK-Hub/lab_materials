{
  "nbformat": 4,
  "nbformat_minor": 0,
  "metadata": {
    "colab": {
      "provenance": []
    },
    "kernelspec": {
      "name": "python3",
      "display_name": "Python 3"
    },
    "language_info": {
      "name": "python"
    }
  },
  "cells": [
    {
      "cell_type": "markdown",
      "source": [
        "Лабораторная работа 0\n",
        "\n",
        "Тема: Игра в имитацию"
      ],
      "metadata": {
        "id": "P6-paTQWsKQf"
      }
    },
    {
      "cell_type": "markdown",
      "source": [
        "Вариант 3\n",
        "\n",
        "Номер зачётки: 105223430"
      ],
      "metadata": {
        "id": "OLUzXvrjPgy6"
      }
    },
    {
      "cell_type": "markdown",
      "source": [
        "1) Дискретная случайная величина ξ принимает значения 0, 1, 2 и 3 с вероятностями соответствующими данным варианта. Используя генератор псевдослучайных чисел, получить 10000 чисел, имитирующих поведение ξ. Вывести значения частот появления значений 0, 1, 2 и 3. Проверить на уровне значимости 0,05 соответствие полученных данных распределению ξ, используя критерий сравнения долей. Вероятности: р0=i/2*(i+j+k), р1=(j+k)/2*(i+j+k), р2=(i+k)/2*(i+j+k), р3=j/2*(i+j+k). Значения i, j, k являются последними тремя цифрами зачетки. Если какая-то из этих трех цифр равна 0, то вместо 0 берется 10.\n",
        "\n",
        "$i = 4, j = 3, k = 10$\n",
        "\n",
        "$p_0 = \\frac{4}{34} = 0.11765$\n",
        "\n",
        "$p_1 = \\frac{13}{34} = 0.382353$\n",
        "\n",
        "$p_2 = \\frac{14}{34} = 0.411765$\n",
        "\n",
        "$p_3 = \\frac{3}{34} = 0.0882353$\n"
      ],
      "metadata": {
        "id": "MGSUj2xKdr1a"
      }
    },
    {
      "cell_type": "code",
      "source": [
        "import random\n",
        "import scipy\n",
        "\n",
        "Quantity = 10000\n",
        "I = 4\n",
        "J = 3\n",
        "K = 10\n",
        "alpha = 0.05\n",
        "df = 3  # число степеней свободы (4 категории - 1)\n",
        "G = scipy.stats.chi2.ppf(1 - alpha, df)\n",
        "\n",
        "def calculate_probabilities(i, j, k):\n",
        "  p_sum = 2 * (i + j + k)\n",
        "  p0 = i / p_sum\n",
        "  p1 = (j + k) / p_sum\n",
        "  p2 = (i + k) / p_sum\n",
        "  p3 = j / p_sum\n",
        "\n",
        "  return (p0, p1, p2, p3)\n",
        "\n",
        "def generate_random_category(i, j, k):\n",
        "  p0, p1, p2, p3 = calculate_probabilities(i, j, k)\n",
        "\n",
        "  rand_value = random.random()\n",
        "\n",
        "  if rand_value < p0:\n",
        "    return 0\n",
        "  elif rand_value < p0 + p1:\n",
        "    return 1\n",
        "  elif rand_value < p0 + p1 + p2:\n",
        "    return 2\n",
        "\n",
        "  return 3\n",
        "\n",
        "\n",
        "p0, p1, p2, p3 = calculate_probabilities(I, J, K)\n",
        "count = [0] * 4\n",
        "exps = [Quantity * p0,\n",
        "        Quantity * p1,\n",
        "        Quantity * p2,\n",
        "        Quantity * p3]\n",
        "\n",
        "for random_variable in (generate_random_category(I, J, K) for _ in range(0, Quantity)):\n",
        "  count[random_variable] += 1\n",
        "\n",
        "K, p = scipy.stats.chisquare(f_obs=count, f_exp=exps)\n",
        "\n",
        "print(\"K =\", K, \"p =\", p)\n",
        "\n",
        "if K > G:\n",
        "  print(f\"Гипотеза отвергается, K > G ({K} > {G})\")\n",
        "else:\n",
        "  print(f\"Гипотеза подтвердилась, K < G ({K} < {G})\")"
      ],
      "metadata": {
        "colab": {
          "base_uri": "https://localhost:8080/"
        },
        "id": "oMnZZWJyet7W",
        "outputId": "699b190a-809e-491c-c1a0-09abc54a7222"
      },
      "execution_count": null,
      "outputs": [
        {
          "output_type": "stream",
          "name": "stdout",
          "text": [
            "K = 0.9940800366300353 p = 0.8026844105310528\n",
            "Гипотеза подтвердилась, K < G (0.9940800366300353 < 7.814727903251179)\n"
          ]
        }
      ]
    },
    {
      "cell_type": "markdown",
      "source": [
        "2. Непрерывная случайная величина ξ распределена по экспоненциальному закону с параметром λ соответствующим данным варианта. Построив генератор псевдослучайных чисел, получить 10000 чисел, имитирующих поведение ξ. Разбить выборку на интервалы и построить гистограмму частот. Вывести средние арифметическое значений выборки и проверить  на уровне значимости 0,05 соответствие полученных данных показательному распределению с параметром λ. Здесь λ определяется номер по списку разделить на 4.\n",
        "\n",
        "$\\lambda = 0.75$\n",
        "\n",
        "F: $y = 1- e ^ {-λx}$\n",
        "\n",
        "$ln(1 - y) = ln(e ^ {-λx})$\n",
        "\n",
        "$x = \\frac{ln(1 - y)}{-λ}$\n",
        "\n",
        "Математическое ожидание при таком распределении\n",
        "должно быть\n",
        "$M = \\frac{1}{λ} = 1\\frac{1}{3}$\n",
        "\n",
        "$σ = \\frac{1}{λ} = 1\\frac{1}{3}$"
      ],
      "metadata": {
        "id": "Xifd_CcrrQ-_"
      }
    },
    {
      "cell_type": "code",
      "source": [
        "from re import M\n",
        "import random\n",
        "import scipy\n",
        "import math\n",
        "import matplotlib.pyplot as plt\n",
        "\n",
        "GROUPS = 25\n",
        "Quantity = 10000\n",
        "LAMBDA = 0.75\n",
        "alpha = 0.05\n",
        "G = scipy.stats.chi2.ppf(1 - alpha, GROUPS - 1)\n",
        "\n",
        "M_current = 1 / LAMBDA\n",
        "Sigma_current = 1 / LAMBDA\n",
        "\n",
        "def LAMBDA_random():\n",
        "  return math.log(1 - random.random()) / -LAMBDA\n",
        "\n",
        "def F(x):\n",
        "  if x > 0:\n",
        "    return 1 - math.exp(-LAMBDA * x)\n",
        "  return 0\n",
        "\n",
        "value = [LAMBDA_random() for _ in range(0, Quantity)]\n",
        "value.sort(reverse=True)\n",
        "\n",
        "сenter = sum(value) / len(value)\n",
        "\n",
        "print(\"Среднее арифметическое M =\", сenter)\n",
        "\n",
        "value_max = value[0]\n",
        "value_min = 0\n",
        "\n",
        "emps = [0] * GROUPS\n",
        "exps = [0] * GROUPS\n",
        "emps_new = []\n",
        "exps_new = []\n",
        "\n",
        "for val in value:\n",
        "  freq_index = int(val * (GROUPS / value_max))\n",
        "  if freq_index < GROUPS:\n",
        "    emps[freq_index] += 1\n",
        "\n",
        "for i in range(0, GROUPS):\n",
        "  lower = i * (value_max / GROUPS)\n",
        "  upper = (i + 1) * (value_max / GROUPS)\n",
        "\n",
        "  probability = F(upper) - F(lower)\n",
        "\n",
        "  exps[i] = int(probability * Quantity)\n",
        "\n",
        "  if (exps[i] != 0):\n",
        "    emps_new.append(emps[i])\n",
        "    exps_new.append(exps[i])\n",
        "\n",
        "exps_new[0] += sum(emps_new) - sum(exps_new)\n",
        "\n",
        "K, p = scipy.stats.chisquare(f_obs=emps_new, f_exp=exps_new, ddof=2)\n",
        "\n",
        "print(\"K =\", K, \"p =\", p)\n",
        "\n",
        "if K > G:\n",
        "  print(f\"Гипотеза отвергается, K > G ({K} > {G})\")\n",
        "else:\n",
        "  print(f\"Гипотеза подтвердилась, K < G ({K} < {G})\")\n",
        "\n",
        "plt.hist(value, color = 'green', edgecolor = 'black',\n",
        "         bins = int(GROUPS))\n",
        "plt.show()"
      ],
      "metadata": {
        "colab": {
          "base_uri": "https://localhost:8080/",
          "height": 482
        },
        "id": "PIdUJVfav_OF",
        "outputId": "dd0f4f1e-87d8-4c8f-843f-0c21b7870dba"
      },
      "execution_count": null,
      "outputs": [
        {
          "output_type": "stream",
          "name": "stdout",
          "text": [
            "Среднее арифметическое M = 1.3447379415082188\n",
            "K = 21.711649515695505 p = 0.15274839149533875\n",
            "Гипотеза подтвердилась, K < G (21.711649515695505 < 36.41502850180731)\n"
          ]
        },
        {
          "output_type": "display_data",
          "data": {
            "text/plain": [
              "<Figure size 640x480 with 1 Axes>"
            ],
            "image/png": "[encoded data removed]"
          },
          "metadata": {}
        }
      ]
    }
  ]
}